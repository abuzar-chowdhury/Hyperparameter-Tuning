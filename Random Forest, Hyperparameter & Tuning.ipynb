{
 "cells": [
  {
   "cell_type": "code",
   "execution_count": 55,
   "id": "2898c399",
   "metadata": {},
   "outputs": [],
   "source": [
    "import pandas as pd # data frame from Library\n",
    "import seaborn as sns # data visualization library\n",
    "import matplotlib.pyplot as plt \n",
    "import numpy as np \n",
    "from sklearn.svm import SVC\n",
    "from sklearn.model_selection import train_test_split as tts, GridSearchCV\n",
    "from sklearn.preprocessing import MinMaxScaler"
   ]
  },
  {
   "cell_type": "code",
   "execution_count": 56,
   "id": "58896deb",
   "metadata": {},
   "outputs": [],
   "source": [
    "df = pd.read_csv('heart_failure.csv')\n",
    "df.head()"
   ]
  },
  {
   "cell_type": "code",
   "execution_count": 57,
   "id": "dae67c7d",
   "metadata": {},
   "outputs": [
    {
     "data": {
      "text/html": [
       "<div>\n",
       "<style scoped>\n",
       "    .dataframe tbody tr th:only-of-type {\n",
       "        vertical-align: middle;\n",
       "    }\n",
       "\n",
       "    .dataframe tbody tr th {\n",
       "        vertical-align: top;\n",
       "    }\n",
       "\n",
       "    .dataframe thead th {\n",
       "        text-align: right;\n",
       "    }\n",
       "</style>\n",
       "<table border=\"1\" class=\"dataframe\">\n",
       "  <thead>\n",
       "    <tr style=\"text-align: right;\">\n",
       "      <th></th>\n",
       "      <th>age</th>\n",
       "      <th>anaemia</th>\n",
       "      <th>creatinine_phosphokinase</th>\n",
       "      <th>diabetes</th>\n",
       "      <th>ejection_fraction</th>\n",
       "      <th>high_blood_pressure</th>\n",
       "      <th>platelets</th>\n",
       "      <th>serum_creatinine</th>\n",
       "      <th>serum_sodium</th>\n",
       "      <th>sex</th>\n",
       "      <th>smoking</th>\n",
       "      <th>time</th>\n",
       "      <th>DEATH_EVENT</th>\n",
       "    </tr>\n",
       "  </thead>\n",
       "  <tbody>\n",
       "    <tr>\n",
       "      <th>0</th>\n",
       "      <td>75.0</td>\n",
       "      <td>0</td>\n",
       "      <td>582</td>\n",
       "      <td>0</td>\n",
       "      <td>20</td>\n",
       "      <td>1</td>\n",
       "      <td>265000.00</td>\n",
       "      <td>1.9</td>\n",
       "      <td>130</td>\n",
       "      <td>1</td>\n",
       "      <td>0</td>\n",
       "      <td>4</td>\n",
       "      <td>1</td>\n",
       "    </tr>\n",
       "    <tr>\n",
       "      <th>1</th>\n",
       "      <td>55.0</td>\n",
       "      <td>0</td>\n",
       "      <td>7861</td>\n",
       "      <td>0</td>\n",
       "      <td>38</td>\n",
       "      <td>0</td>\n",
       "      <td>263358.03</td>\n",
       "      <td>1.1</td>\n",
       "      <td>136</td>\n",
       "      <td>1</td>\n",
       "      <td>0</td>\n",
       "      <td>6</td>\n",
       "      <td>1</td>\n",
       "    </tr>\n",
       "    <tr>\n",
       "      <th>2</th>\n",
       "      <td>65.0</td>\n",
       "      <td>0</td>\n",
       "      <td>146</td>\n",
       "      <td>0</td>\n",
       "      <td>20</td>\n",
       "      <td>0</td>\n",
       "      <td>162000.00</td>\n",
       "      <td>1.3</td>\n",
       "      <td>129</td>\n",
       "      <td>1</td>\n",
       "      <td>1</td>\n",
       "      <td>7</td>\n",
       "      <td>1</td>\n",
       "    </tr>\n",
       "    <tr>\n",
       "      <th>3</th>\n",
       "      <td>50.0</td>\n",
       "      <td>1</td>\n",
       "      <td>111</td>\n",
       "      <td>0</td>\n",
       "      <td>20</td>\n",
       "      <td>0</td>\n",
       "      <td>210000.00</td>\n",
       "      <td>1.9</td>\n",
       "      <td>137</td>\n",
       "      <td>1</td>\n",
       "      <td>0</td>\n",
       "      <td>7</td>\n",
       "      <td>1</td>\n",
       "    </tr>\n",
       "    <tr>\n",
       "      <th>4</th>\n",
       "      <td>65.0</td>\n",
       "      <td>1</td>\n",
       "      <td>160</td>\n",
       "      <td>1</td>\n",
       "      <td>20</td>\n",
       "      <td>0</td>\n",
       "      <td>327000.00</td>\n",
       "      <td>2.7</td>\n",
       "      <td>116</td>\n",
       "      <td>0</td>\n",
       "      <td>0</td>\n",
       "      <td>8</td>\n",
       "      <td>1</td>\n",
       "    </tr>\n",
       "  </tbody>\n",
       "</table>\n",
       "</div>"
      ],
      "text/plain": [
       "    age  anaemia  creatinine_phosphokinase  diabetes  ejection_fraction  \\\n",
       "0  75.0        0                       582         0                 20   \n",
       "1  55.0        0                      7861         0                 38   \n",
       "2  65.0        0                       146         0                 20   \n",
       "3  50.0        1                       111         0                 20   \n",
       "4  65.0        1                       160         1                 20   \n",
       "\n",
       "   high_blood_pressure  platelets  serum_creatinine  serum_sodium  sex  \\\n",
       "0                    1  265000.00               1.9           130    1   \n",
       "1                    0  263358.03               1.1           136    1   \n",
       "2                    0  162000.00               1.3           129    1   \n",
       "3                    0  210000.00               1.9           137    1   \n",
       "4                    0  327000.00               2.7           116    0   \n",
       "\n",
       "   smoking  time  DEATH_EVENT  \n",
       "0        0     4            1  \n",
       "1        0     6            1  \n",
       "2        1     7            1  \n",
       "3        0     7            1  \n",
       "4        0     8            1  "
      ]
     },
     "execution_count": 57,
     "metadata": {},
     "output_type": "execute_result"
    }
   ],
   "source": []
  },
  {
   "cell_type": "code",
   "execution_count": 58,
   "id": "9b3a6f8a",
   "metadata": {},
   "outputs": [
    {
     "name": "stdout",
     "output_type": "stream",
     "text": [
      "<class 'pandas.core.frame.DataFrame'>\n",
      "RangeIndex: 299 entries, 0 to 298\n",
      "Data columns (total 13 columns):\n",
      " #   Column                    Non-Null Count  Dtype  \n",
      "---  ------                    --------------  -----  \n",
      " 0   age                       299 non-null    float64\n",
      " 1   anaemia                   299 non-null    int64  \n",
      " 2   creatinine_phosphokinase  299 non-null    int64  \n",
      " 3   diabetes                  299 non-null    int64  \n",
      " 4   ejection_fraction         299 non-null    int64  \n",
      " 5   high_blood_pressure       299 non-null    int64  \n",
      " 6   platelets                 299 non-null    float64\n",
      " 7   serum_creatinine          299 non-null    float64\n",
      " 8   serum_sodium              299 non-null    int64  \n",
      " 9   sex                       299 non-null    int64  \n",
      " 10  smoking                   299 non-null    int64  \n",
      " 11  time                      299 non-null    int64  \n",
      " 12  DEATH_EVENT               299 non-null    int64  \n",
      "dtypes: float64(3), int64(10)\n",
      "memory usage: 30.5 KB\n"
     ]
    }
   ],
   "source": [
    "df.info()"
   ]
  },
  {
   "cell_type": "markdown",
   "id": "8608e89c",
   "metadata": {},
   "source": [
    "# Scalling the data"
   ]
  },
  {
   "cell_type": "code",
   "execution_count": 61,
   "id": "3b4daef9",
   "metadata": {},
   "outputs": [],
   "source": [
    "scaler = MinMaxScaler()"
   ]
  },
  {
   "cell_type": "code",
   "execution_count": 62,
   "id": "b5ecaf76",
   "metadata": {},
   "outputs": [],
   "source": [
    "xtrain_scaled = scaler.fit_transform(xtrain)\n",
    "xtest_scaled = scaler.fit_transform(xtest)"
   ]
  },
  {
   "cell_type": "code",
   "execution_count": null,
   "id": "681256b4",
   "metadata": {},
   "outputs": [],
   "source": [
    "# Applying SVM without tuning the hyperparameter"
   ]
  },
  {
   "cell_type": "code",
   "execution_count": 64,
   "id": "9e79090e",
   "metadata": {},
   "outputs": [
    {
     "name": "stdout",
     "output_type": "stream",
     "text": [
      "Train_Score : 0.8660287081339713\n",
      "Test_Score  : 0.7333333333333333\n"
     ]
    }
   ],
   "source": [
    "svcClassifier = SVC(kernel='linear')\n",
    "SVC_model = svcClassifier.fit(xtrain_scaled, ytrain)\n",
    "\n",
    "print(\"Train_Score :\", SVC_model.score(xtrain_scaled, ytrain))\n",
    "print(\"Test_Score  :\", SVC_model.score(xtest_scaled, ytest))"
   ]
  },
  {
   "cell_type": "code",
   "execution_count": 67,
   "id": "5ffb037d",
   "metadata": {},
   "outputs": [
    {
     "name": "stdout",
     "output_type": "stream",
     "text": [
      "SVC(kernel='linear')\n"
     ]
    }
   ],
   "source": [
    "# Default Parameters\n",
    "print(SVC_model)"
   ]
  },
  {
   "cell_type": "code",
   "execution_count": 68,
   "id": "6dee4bfe",
   "metadata": {},
   "outputs": [],
   "source": [
    "# HyperParameter Tuning of SVM model using gsCV\n",
    "# GridSearchCV is used for determing the best parameters of the model"
   ]
  },
  {
   "cell_type": "code",
   "execution_count": 71,
   "id": "b70bd8af",
   "metadata": {},
   "outputs": [
    {
     "name": "stdout",
     "output_type": "stream",
     "text": [
      "Train_Score :0.861244019138756\n",
      "Test_Score :0.7222222222222222\n"
     ]
    }
   ],
   "source": [
    "params = {\n",
    "    'C'    : [0.001, 0.01, 0.1, 1, 10, 100],\n",
    "    'gamma': [0.001, 0.01, 0.1, 1, 10, 100],\n",
    "    'kernel': ['linear', 'poly', 'rbf', 'sigmoid']\n",
    "}\n",
    "\n",
    "\n",
    "grid_search = GridSearchCV(SVC(random_state=0), params, cv=5, n_jobs=-1)\n",
    "grid_search.fit(xtrain_scaled, ytrain)\n",
    "\n",
    "\n",
    "print(\"Train_Score :\" + str(grid_search.score(xtrain_scaled, ytrain)))\n",
    "print(\"Test_Score :\" + str(grid_search.score(xtest_scaled, ytest)))"
   ]
  },
  {
   "cell_type": "code",
   "execution_count": null,
   "id": "33be2ef0",
   "metadata": {},
   "outputs": [],
   "source": [
    "# Checking best parameters model"
   ]
  },
  {
   "cell_type": "code",
   "execution_count": 72,
   "id": "af3e6b05",
   "metadata": {},
   "outputs": [
    {
     "name": "stdout",
     "output_type": "stream",
     "text": [
      "{'C': 10, 'gamma': 0.1, 'kernel': 'sigmoid'}\n"
     ]
    }
   ],
   "source": [
    "print(grid_search.best_params_)"
   ]
  },
  {
   "cell_type": "code",
   "execution_count": 74,
   "id": "3ac6d579",
   "metadata": {},
   "outputs": [
    {
     "data": {
      "text/plain": [
       "{'mean_fit_time': array([0.00698957, 0.00411816, 0.00205841, 0.00163188, 0.0012538 ,\n",
       "        0.00132227, 0.00177898, 0.00146394, 0.00126262, 0.00126443,\n",
       "        0.00167198, 0.00153303, 0.00122223, 0.00134478, 0.00199599,\n",
       "        0.0021183 , 0.00116568, 0.00151525, 0.00156236, 0.00221395,\n",
       "        0.00210109, 0.00202451, 0.00167875, 0.00116506, 0.00159826,\n",
       "        0.00163403, 0.00154276, 0.00133967, 0.00135689, 0.00113111,\n",
       "        0.00158057, 0.00126114, 0.00114861, 0.0021708 , 0.00157661,\n",
       "        0.00154123, 0.00110016, 0.00122008, 0.00170283, 0.00186563,\n",
       "        0.00315938, 0.00198112, 0.00220304, 0.00167632, 0.0013886 ,\n",
       "        0.00236001, 0.00272503, 0.00281682, 0.00228791, 0.00193863,\n",
       "        0.00242615, 0.00211606, 0.00112472, 0.00113029, 0.00152311,\n",
       "        0.00243192, 0.00111756, 0.00344176, 0.00166144, 0.00245519,\n",
       "        0.00283408, 0.001647  , 0.00228176, 0.00272527, 0.002458  ,\n",
       "        0.0022696 , 0.00300889, 0.00167575, 0.00325246, 0.00261893,\n",
       "        0.00241323, 0.00227613, 0.00109143, 0.00193753, 0.0015841 ,\n",
       "        0.00129223, 0.00163512, 0.00201144, 0.00242   , 0.00176797,\n",
       "        0.00234437, 0.00121613, 0.00329843, 0.00174828, 0.00110736,\n",
       "        0.00446553, 0.00290179, 0.00236826, 0.00162959, 0.00320778,\n",
       "        0.00317259, 0.00189605, 0.00258508, 0.00240407, 0.00320201,\n",
       "        0.00146847, 0.00307465, 0.00185561, 0.00170269, 0.00275712,\n",
       "        0.00126715, 0.00296669, 0.00297651, 0.00163646, 0.00126243,\n",
       "        0.00415759, 0.00194554, 0.00270104, 0.00270424, 0.00230012,\n",
       "        0.00176287, 0.00241504, 0.00176086, 0.00195079, 0.00307426,\n",
       "        0.00253139, 0.00175295, 0.00316825, 0.00256352, 0.00171943,\n",
       "        0.00403504, 0.00224934, 0.00218806, 0.00186582, 0.00377836,\n",
       "        0.00191569, 0.0035738 , 0.00139837, 0.00473461, 0.00171337,\n",
       "        0.00192676, 0.00364394, 0.00500736, 0.00276437, 0.00196385,\n",
       "        0.00248184, 0.00478897, 0.00176926, 0.00446439, 0.00297942,\n",
       "        0.00457368, 0.0026094 , 0.00256934, 0.00175114]),\n",
       " 'std_fit_time': array([1.66881746e-03, 2.35569404e-03, 5.44799268e-04, 3.79014296e-04,\n",
       "        1.13132809e-04, 7.07941808e-05, 1.14350939e-04, 3.03466300e-05,\n",
       "        5.54613888e-05, 6.37302450e-05, 2.12102206e-04, 7.49919481e-05,\n",
       "        8.14611218e-05, 7.51492336e-05, 8.28114890e-04, 4.56489548e-04,\n",
       "        9.56708611e-05, 6.52160194e-05, 3.30149046e-05, 9.84192611e-04,\n",
       "        1.57671424e-03, 5.46852948e-04, 8.34242110e-05, 7.74327755e-05,\n",
       "        9.13363667e-04, 8.15255360e-04, 1.03272449e-04, 1.19331964e-04,\n",
       "        3.94754629e-04, 1.81125325e-05, 1.31178899e-04, 1.51875442e-05,\n",
       "        8.38163355e-05, 1.34762957e-03, 8.98945420e-05, 8.35120897e-05,\n",
       "        2.02004564e-05, 2.26337477e-05, 7.87908152e-05, 9.18671058e-05,\n",
       "        7.63981043e-04, 5.16732845e-04, 3.90841868e-05, 7.00603451e-05,\n",
       "        5.91367426e-04, 1.29096681e-03, 4.61342565e-04, 1.79095612e-03,\n",
       "        1.40534743e-03, 1.00382298e-03, 1.05141074e-03, 9.36263678e-04,\n",
       "        2.72497313e-05, 1.06457567e-05, 1.87577096e-05, 1.15066987e-03,\n",
       "        4.27525399e-05, 1.39495385e-03, 1.25256381e-04, 1.22457909e-03,\n",
       "        8.98105578e-04, 7.93540631e-04, 1.16527754e-03, 1.06030384e-03,\n",
       "        1.53378757e-03, 9.77617987e-04, 1.30702521e-03, 3.00572365e-05,\n",
       "        2.06090450e-03, 1.03604740e-03, 4.56755243e-05, 1.00530197e-03,\n",
       "        2.83994060e-05, 1.01159789e-03, 8.97820425e-05, 1.93973699e-05,\n",
       "        7.74103652e-04, 1.79669873e-03, 1.04165630e-03, 8.39173664e-04,\n",
       "        1.61539620e-03, 2.05888766e-05, 2.15097362e-03, 2.61526181e-04,\n",
       "        2.65947776e-05, 1.84062033e-03, 1.47639985e-03, 1.03569138e-03,\n",
       "        7.14111828e-04, 1.31513463e-03, 1.61699807e-03, 4.04714161e-04,\n",
       "        7.55968502e-04, 1.45542734e-03, 1.56512777e-03, 6.05934192e-04,\n",
       "        2.57650800e-03, 8.96619873e-04, 2.41242310e-04, 2.08816221e-03,\n",
       "        1.13186859e-04, 2.24586409e-03, 2.00258641e-03, 4.56422226e-04,\n",
       "        1.13105030e-04, 1.15215517e-03, 8.73272851e-04, 1.66202243e-03,\n",
       "        1.62336112e-03, 1.22688306e-03, 3.67678246e-05, 7.91454634e-04,\n",
       "        6.58877266e-04, 3.87556434e-04, 6.91202289e-04, 1.38513430e-03,\n",
       "        7.03951817e-04, 1.20375633e-03, 5.57794316e-05, 9.54754616e-04,\n",
       "        1.59406812e-03, 1.26618596e-03, 7.97428205e-04, 8.81162858e-04,\n",
       "        1.35721400e-03, 8.54268202e-04, 2.44018697e-03, 9.88940493e-05,\n",
       "        3.45097977e-03, 7.96666249e-04, 3.44741018e-04, 1.99290346e-03,\n",
       "        4.14899647e-03, 1.13366811e-03, 2.33508671e-04, 1.12571878e-03,\n",
       "        2.44224689e-03, 1.53969485e-04, 2.64323961e-03, 1.00662001e-03,\n",
       "        2.71368154e-03, 8.81703117e-04, 5.63748986e-05, 1.15119453e-03]),\n",
       " 'mean_score_time': array([0.00094147, 0.00269041, 0.00145941, 0.00041747, 0.00035357,\n",
       "        0.00037632, 0.00076694, 0.00042162, 0.00036545, 0.0003654 ,\n",
       "        0.00066142, 0.00043902, 0.00035338, 0.00037036, 0.0006669 ,\n",
       "        0.00051055, 0.00034723, 0.00032082, 0.00066781, 0.00051064,\n",
       "        0.00036535, 0.00033517, 0.00069723, 0.00035138, 0.00035024,\n",
       "        0.00037179, 0.00063977, 0.00037804, 0.00034657, 0.00033216,\n",
       "        0.00083017, 0.0003655 , 0.00033321, 0.00061021, 0.0006475 ,\n",
       "        0.00043116, 0.00031781, 0.00034013, 0.00070629, 0.00048399,\n",
       "        0.00122066, 0.0003067 , 0.00093312, 0.0004745 , 0.00033197,\n",
       "        0.00043025, 0.00099392, 0.00070939, 0.00062423, 0.00055456,\n",
       "        0.00209308, 0.00064797, 0.00031786, 0.00033336, 0.00064001,\n",
       "        0.00065627, 0.00031505, 0.00099573, 0.00093098, 0.00058255,\n",
       "        0.00177135, 0.00062571, 0.00203538, 0.00051565, 0.00145226,\n",
       "        0.00042357, 0.00119019, 0.00047321, 0.00061831, 0.00056243,\n",
       "        0.00096455, 0.00064864, 0.00030112, 0.00072637, 0.00064678,\n",
       "        0.00036702, 0.00046325, 0.00052533, 0.00099735, 0.00039606,\n",
       "        0.00059133, 0.00034075, 0.00113106, 0.00044899, 0.00030484,\n",
       "        0.00081491, 0.00099816, 0.00083718, 0.00052705, 0.00056367,\n",
       "        0.00184846, 0.00047803, 0.00092974, 0.00031662, 0.0021286 ,\n",
       "        0.00035734, 0.00046678, 0.00221758, 0.00065913, 0.0013638 ,\n",
       "        0.00028372, 0.00063972, 0.00173573, 0.00051031, 0.00028419,\n",
       "        0.00211973, 0.00078673, 0.00043511, 0.00057416, 0.00053487,\n",
       "        0.00064096, 0.00059261, 0.0003232 , 0.00032153, 0.00097933,\n",
       "        0.00057817, 0.00031767, 0.00050426, 0.0009758 , 0.0004046 ,\n",
       "        0.0003551 , 0.0007195 , 0.00068269, 0.00040517, 0.00034804,\n",
       "        0.00071197, 0.00072474, 0.00036697, 0.00035005, 0.00046697,\n",
       "        0.00052538, 0.00053043, 0.00034227, 0.00045462, 0.00121765,\n",
       "        0.00061812, 0.00035181, 0.00030537, 0.0014174 , 0.00066724,\n",
       "        0.00033417, 0.00109735, 0.00098271, 0.00035152]),\n",
       " 'std_score_time': array([4.23333800e-04, 3.51438266e-03, 1.39767896e-03, 1.55012419e-05,\n",
       "        1.41147021e-05, 1.15554085e-05, 1.33791568e-04, 9.96760760e-06,\n",
       "        7.69083792e-06, 1.49209654e-05, 1.13166227e-05, 1.54906773e-05,\n",
       "        1.86109488e-05, 1.39588733e-05, 3.77862685e-05, 3.67234583e-05,\n",
       "        2.61198843e-05, 1.09377755e-05, 9.05614072e-06, 6.55284953e-05,\n",
       "        5.50352715e-05, 3.50104999e-05, 2.92175524e-05, 1.82382577e-05,\n",
       "        4.27265784e-05, 6.12112203e-05, 1.95297272e-05, 1.88327136e-05,\n",
       "        4.02546595e-05, 6.60449589e-06, 4.00201589e-04, 6.03721792e-06,\n",
       "        1.40084662e-05, 3.42493831e-04, 1.55710515e-05, 1.40376519e-05,\n",
       "        6.11951341e-06, 5.70333920e-06, 1.60677850e-05, 1.32076146e-05,\n",
       "        6.05872479e-04, 1.18286375e-05, 1.74168974e-05, 1.95987613e-05,\n",
       "        3.69210550e-05, 2.53229562e-04, 4.43374975e-05, 3.02410096e-04,\n",
       "        3.84847658e-04, 2.85120591e-04, 2.24757014e-03, 3.28247835e-04,\n",
       "        4.35046949e-06, 2.30860108e-06, 4.43894162e-06, 3.19289769e-04,\n",
       "        9.39090804e-06, 3.62106433e-04, 5.37698702e-04, 2.72520074e-04,\n",
       "        1.31665216e-03, 5.96112946e-04, 1.90033034e-03, 4.00910323e-05,\n",
       "        1.59700632e-03, 2.47798678e-04, 4.47800388e-04, 1.36098380e-05,\n",
       "        3.26438330e-04, 2.80617594e-04, 1.38927470e-05, 3.26757220e-04,\n",
       "        3.46158818e-06, 5.41694265e-04, 1.45473632e-05, 3.30568886e-06,\n",
       "        3.02600275e-04, 3.98382724e-04, 5.38246539e-04, 3.22503411e-05,\n",
       "        3.46217712e-04, 4.74063435e-06, 5.98984477e-04, 2.62647690e-05,\n",
       "        4.98881975e-06, 3.16277428e-04, 5.03195176e-04, 7.31423260e-04,\n",
       "        4.23736951e-04, 2.86387595e-04, 1.20808849e-03, 1.70984523e-05,\n",
       "        3.26024330e-04, 4.95293582e-05, 2.35475169e-03, 3.70230814e-05,\n",
       "        2.52076679e-04, 2.30631368e-03, 1.27134122e-05, 1.59102243e-03,\n",
       "        8.09781254e-06, 3.36146976e-04, 1.66851241e-03, 2.62979372e-04,\n",
       "        7.55452133e-06, 1.44975892e-03, 4.18390938e-04, 4.62163208e-05,\n",
       "        3.29391757e-04, 4.51766521e-04, 2.59697266e-05, 2.62713068e-04,\n",
       "        3.12295941e-05, 2.03607791e-05, 4.07383615e-05, 1.73774992e-04,\n",
       "        2.72664143e-05, 3.15244290e-04, 1.03457181e-05, 9.90091245e-05,\n",
       "        3.72255626e-05, 4.54601112e-04, 3.53530941e-05, 3.82019481e-05,\n",
       "        3.11807023e-05, 6.94579317e-04, 2.64641848e-04, 1.80559539e-05,\n",
       "        4.07218375e-05, 2.53508833e-04, 2.45414147e-05, 2.79509537e-04,\n",
       "        3.80352291e-05, 2.51625907e-04, 1.24768414e-03, 2.57701550e-04,\n",
       "        4.31532623e-05, 9.89066480e-06, 6.11369971e-04, 2.98586603e-04,\n",
       "        4.30393018e-05, 1.19321870e-03, 1.82020679e-05, 3.23851425e-05]),\n",
       " 'param_C': masked_array(data=[0.001, 0.001, 0.001, 0.001, 0.001, 0.001, 0.001, 0.001,\n",
       "                    0.001, 0.001, 0.001, 0.001, 0.001, 0.001, 0.001, 0.001,\n",
       "                    0.001, 0.001, 0.001, 0.001, 0.001, 0.001, 0.001, 0.001,\n",
       "                    0.01, 0.01, 0.01, 0.01, 0.01, 0.01, 0.01, 0.01, 0.01,\n",
       "                    0.01, 0.01, 0.01, 0.01, 0.01, 0.01, 0.01, 0.01, 0.01,\n",
       "                    0.01, 0.01, 0.01, 0.01, 0.01, 0.01, 0.1, 0.1, 0.1, 0.1,\n",
       "                    0.1, 0.1, 0.1, 0.1, 0.1, 0.1, 0.1, 0.1, 0.1, 0.1, 0.1,\n",
       "                    0.1, 0.1, 0.1, 0.1, 0.1, 0.1, 0.1, 0.1, 0.1, 1, 1, 1,\n",
       "                    1, 1, 1, 1, 1, 1, 1, 1, 1, 1, 1, 1, 1, 1, 1, 1, 1, 1,\n",
       "                    1, 1, 1, 10, 10, 10, 10, 10, 10, 10, 10, 10, 10, 10,\n",
       "                    10, 10, 10, 10, 10, 10, 10, 10, 10, 10, 10, 10, 10,\n",
       "                    100, 100, 100, 100, 100, 100, 100, 100, 100, 100, 100,\n",
       "                    100, 100, 100, 100, 100, 100, 100, 100, 100, 100, 100,\n",
       "                    100, 100],\n",
       "              mask=[False, False, False, False, False, False, False, False,\n",
       "                    False, False, False, False, False, False, False, False,\n",
       "                    False, False, False, False, False, False, False, False,\n",
       "                    False, False, False, False, False, False, False, False,\n",
       "                    False, False, False, False, False, False, False, False,\n",
       "                    False, False, False, False, False, False, False, False,\n",
       "                    False, False, False, False, False, False, False, False,\n",
       "                    False, False, False, False, False, False, False, False,\n",
       "                    False, False, False, False, False, False, False, False,\n",
       "                    False, False, False, False, False, False, False, False,\n",
       "                    False, False, False, False, False, False, False, False,\n",
       "                    False, False, False, False, False, False, False, False,\n",
       "                    False, False, False, False, False, False, False, False,\n",
       "                    False, False, False, False, False, False, False, False,\n",
       "                    False, False, False, False, False, False, False, False,\n",
       "                    False, False, False, False, False, False, False, False,\n",
       "                    False, False, False, False, False, False, False, False,\n",
       "                    False, False, False, False, False, False, False, False],\n",
       "        fill_value='?',\n",
       "             dtype=object),\n",
       " 'param_gamma': masked_array(data=[0.001, 0.001, 0.001, 0.001, 0.01, 0.01, 0.01, 0.01,\n",
       "                    0.1, 0.1, 0.1, 0.1, 1, 1, 1, 1, 10, 10, 10, 10, 100,\n",
       "                    100, 100, 100, 0.001, 0.001, 0.001, 0.001, 0.01, 0.01,\n",
       "                    0.01, 0.01, 0.1, 0.1, 0.1, 0.1, 1, 1, 1, 1, 10, 10, 10,\n",
       "                    10, 100, 100, 100, 100, 0.001, 0.001, 0.001, 0.001,\n",
       "                    0.01, 0.01, 0.01, 0.01, 0.1, 0.1, 0.1, 0.1, 1, 1, 1, 1,\n",
       "                    10, 10, 10, 10, 100, 100, 100, 100, 0.001, 0.001,\n",
       "                    0.001, 0.001, 0.01, 0.01, 0.01, 0.01, 0.1, 0.1, 0.1,\n",
       "                    0.1, 1, 1, 1, 1, 10, 10, 10, 10, 100, 100, 100, 100,\n",
       "                    0.001, 0.001, 0.001, 0.001, 0.01, 0.01, 0.01, 0.01,\n",
       "                    0.1, 0.1, 0.1, 0.1, 1, 1, 1, 1, 10, 10, 10, 10, 100,\n",
       "                    100, 100, 100, 0.001, 0.001, 0.001, 0.001, 0.01, 0.01,\n",
       "                    0.01, 0.01, 0.1, 0.1, 0.1, 0.1, 1, 1, 1, 1, 10, 10, 10,\n",
       "                    10, 100, 100, 100, 100],\n",
       "              mask=[False, False, False, False, False, False, False, False,\n",
       "                    False, False, False, False, False, False, False, False,\n",
       "                    False, False, False, False, False, False, False, False,\n",
       "                    False, False, False, False, False, False, False, False,\n",
       "                    False, False, False, False, False, False, False, False,\n",
       "                    False, False, False, False, False, False, False, False,\n",
       "                    False, False, False, False, False, False, False, False,\n",
       "                    False, False, False, False, False, False, False, False,\n",
       "                    False, False, False, False, False, False, False, False,\n",
       "                    False, False, False, False, False, False, False, False,\n",
       "                    False, False, False, False, False, False, False, False,\n",
       "                    False, False, False, False, False, False, False, False,\n",
       "                    False, False, False, False, False, False, False, False,\n",
       "                    False, False, False, False, False, False, False, False,\n",
       "                    False, False, False, False, False, False, False, False,\n",
       "                    False, False, False, False, False, False, False, False,\n",
       "                    False, False, False, False, False, False, False, False,\n",
       "                    False, False, False, False, False, False, False, False],\n",
       "        fill_value='?',\n",
       "             dtype=object),\n",
       " 'param_kernel': masked_array(data=['linear', 'poly', 'rbf', 'sigmoid', 'linear', 'poly',\n",
       "                    'rbf', 'sigmoid', 'linear', 'poly', 'rbf', 'sigmoid',\n",
       "                    'linear', 'poly', 'rbf', 'sigmoid', 'linear', 'poly',\n",
       "                    'rbf', 'sigmoid', 'linear', 'poly', 'rbf', 'sigmoid',\n",
       "                    'linear', 'poly', 'rbf', 'sigmoid', 'linear', 'poly',\n",
       "                    'rbf', 'sigmoid', 'linear', 'poly', 'rbf', 'sigmoid',\n",
       "                    'linear', 'poly', 'rbf', 'sigmoid', 'linear', 'poly',\n",
       "                    'rbf', 'sigmoid', 'linear', 'poly', 'rbf', 'sigmoid',\n",
       "                    'linear', 'poly', 'rbf', 'sigmoid', 'linear', 'poly',\n",
       "                    'rbf', 'sigmoid', 'linear', 'poly', 'rbf', 'sigmoid',\n",
       "                    'linear', 'poly', 'rbf', 'sigmoid', 'linear', 'poly',\n",
       "                    'rbf', 'sigmoid', 'linear', 'poly', 'rbf', 'sigmoid',\n",
       "                    'linear', 'poly', 'rbf', 'sigmoid', 'linear', 'poly',\n",
       "                    'rbf', 'sigmoid', 'linear', 'poly', 'rbf', 'sigmoid',\n",
       "                    'linear', 'poly', 'rbf', 'sigmoid', 'linear', 'poly',\n",
       "                    'rbf', 'sigmoid', 'linear', 'poly', 'rbf', 'sigmoid',\n",
       "                    'linear', 'poly', 'rbf', 'sigmoid', 'linear', 'poly',\n",
       "                    'rbf', 'sigmoid', 'linear', 'poly', 'rbf', 'sigmoid',\n",
       "                    'linear', 'poly', 'rbf', 'sigmoid', 'linear', 'poly',\n",
       "                    'rbf', 'sigmoid', 'linear', 'poly', 'rbf', 'sigmoid',\n",
       "                    'linear', 'poly', 'rbf', 'sigmoid', 'linear', 'poly',\n",
       "                    'rbf', 'sigmoid', 'linear', 'poly', 'rbf', 'sigmoid',\n",
       "                    'linear', 'poly', 'rbf', 'sigmoid', 'linear', 'poly',\n",
       "                    'rbf', 'sigmoid', 'linear', 'poly', 'rbf', 'sigmoid'],\n",
       "              mask=[False, False, False, False, False, False, False, False,\n",
       "                    False, False, False, False, False, False, False, False,\n",
       "                    False, False, False, False, False, False, False, False,\n",
       "                    False, False, False, False, False, False, False, False,\n",
       "                    False, False, False, False, False, False, False, False,\n",
       "                    False, False, False, False, False, False, False, False,\n",
       "                    False, False, False, False, False, False, False, False,\n",
       "                    False, False, False, False, False, False, False, False,\n",
       "                    False, False, False, False, False, False, False, False,\n",
       "                    False, False, False, False, False, False, False, False,\n",
       "                    False, False, False, False, False, False, False, False,\n",
       "                    False, False, False, False, False, False, False, False,\n",
       "                    False, False, False, False, False, False, False, False,\n",
       "                    False, False, False, False, False, False, False, False,\n",
       "                    False, False, False, False, False, False, False, False,\n",
       "                    False, False, False, False, False, False, False, False,\n",
       "                    False, False, False, False, False, False, False, False,\n",
       "                    False, False, False, False, False, False, False, False],\n",
       "        fill_value='?',\n",
       "             dtype=object),\n",
       " 'params': [{'C': 0.001, 'gamma': 0.001, 'kernel': 'linear'},\n",
       "  {'C': 0.001, 'gamma': 0.001, 'kernel': 'poly'},\n",
       "  {'C': 0.001, 'gamma': 0.001, 'kernel': 'rbf'},\n",
       "  {'C': 0.001, 'gamma': 0.001, 'kernel': 'sigmoid'},\n",
       "  {'C': 0.001, 'gamma': 0.01, 'kernel': 'linear'},\n",
       "  {'C': 0.001, 'gamma': 0.01, 'kernel': 'poly'},\n",
       "  {'C': 0.001, 'gamma': 0.01, 'kernel': 'rbf'},\n",
       "  {'C': 0.001, 'gamma': 0.01, 'kernel': 'sigmoid'},\n",
       "  {'C': 0.001, 'gamma': 0.1, 'kernel': 'linear'},\n",
       "  {'C': 0.001, 'gamma': 0.1, 'kernel': 'poly'},\n",
       "  {'C': 0.001, 'gamma': 0.1, 'kernel': 'rbf'},\n",
       "  {'C': 0.001, 'gamma': 0.1, 'kernel': 'sigmoid'},\n",
       "  {'C': 0.001, 'gamma': 1, 'kernel': 'linear'},\n",
       "  {'C': 0.001, 'gamma': 1, 'kernel': 'poly'},\n",
       "  {'C': 0.001, 'gamma': 1, 'kernel': 'rbf'},\n",
       "  {'C': 0.001, 'gamma': 1, 'kernel': 'sigmoid'},\n",
       "  {'C': 0.001, 'gamma': 10, 'kernel': 'linear'},\n",
       "  {'C': 0.001, 'gamma': 10, 'kernel': 'poly'},\n",
       "  {'C': 0.001, 'gamma': 10, 'kernel': 'rbf'},\n",
       "  {'C': 0.001, 'gamma': 10, 'kernel': 'sigmoid'},\n",
       "  {'C': 0.001, 'gamma': 100, 'kernel': 'linear'},\n",
       "  {'C': 0.001, 'gamma': 100, 'kernel': 'poly'},\n",
       "  {'C': 0.001, 'gamma': 100, 'kernel': 'rbf'},\n",
       "  {'C': 0.001, 'gamma': 100, 'kernel': 'sigmoid'},\n",
       "  {'C': 0.01, 'gamma': 0.001, 'kernel': 'linear'},\n",
       "  {'C': 0.01, 'gamma': 0.001, 'kernel': 'poly'},\n",
       "  {'C': 0.01, 'gamma': 0.001, 'kernel': 'rbf'},\n",
       "  {'C': 0.01, 'gamma': 0.001, 'kernel': 'sigmoid'},\n",
       "  {'C': 0.01, 'gamma': 0.01, 'kernel': 'linear'},\n",
       "  {'C': 0.01, 'gamma': 0.01, 'kernel': 'poly'},\n",
       "  {'C': 0.01, 'gamma': 0.01, 'kernel': 'rbf'},\n",
       "  {'C': 0.01, 'gamma': 0.01, 'kernel': 'sigmoid'},\n",
       "  {'C': 0.01, 'gamma': 0.1, 'kernel': 'linear'},\n",
       "  {'C': 0.01, 'gamma': 0.1, 'kernel': 'poly'},\n",
       "  {'C': 0.01, 'gamma': 0.1, 'kernel': 'rbf'},\n",
       "  {'C': 0.01, 'gamma': 0.1, 'kernel': 'sigmoid'},\n",
       "  {'C': 0.01, 'gamma': 1, 'kernel': 'linear'},\n",
       "  {'C': 0.01, 'gamma': 1, 'kernel': 'poly'},\n",
       "  {'C': 0.01, 'gamma': 1, 'kernel': 'rbf'},\n",
       "  {'C': 0.01, 'gamma': 1, 'kernel': 'sigmoid'},\n",
       "  {'C': 0.01, 'gamma': 10, 'kernel': 'linear'},\n",
       "  {'C': 0.01, 'gamma': 10, 'kernel': 'poly'},\n",
       "  {'C': 0.01, 'gamma': 10, 'kernel': 'rbf'},\n",
       "  {'C': 0.01, 'gamma': 10, 'kernel': 'sigmoid'},\n",
       "  {'C': 0.01, 'gamma': 100, 'kernel': 'linear'},\n",
       "  {'C': 0.01, 'gamma': 100, 'kernel': 'poly'},\n",
       "  {'C': 0.01, 'gamma': 100, 'kernel': 'rbf'},\n",
       "  {'C': 0.01, 'gamma': 100, 'kernel': 'sigmoid'},\n",
       "  {'C': 0.1, 'gamma': 0.001, 'kernel': 'linear'},\n",
       "  {'C': 0.1, 'gamma': 0.001, 'kernel': 'poly'},\n",
       "  {'C': 0.1, 'gamma': 0.001, 'kernel': 'rbf'},\n",
       "  {'C': 0.1, 'gamma': 0.001, 'kernel': 'sigmoid'},\n",
       "  {'C': 0.1, 'gamma': 0.01, 'kernel': 'linear'},\n",
       "  {'C': 0.1, 'gamma': 0.01, 'kernel': 'poly'},\n",
       "  {'C': 0.1, 'gamma': 0.01, 'kernel': 'rbf'},\n",
       "  {'C': 0.1, 'gamma': 0.01, 'kernel': 'sigmoid'},\n",
       "  {'C': 0.1, 'gamma': 0.1, 'kernel': 'linear'},\n",
       "  {'C': 0.1, 'gamma': 0.1, 'kernel': 'poly'},\n",
       "  {'C': 0.1, 'gamma': 0.1, 'kernel': 'rbf'},\n",
       "  {'C': 0.1, 'gamma': 0.1, 'kernel': 'sigmoid'},\n",
       "  {'C': 0.1, 'gamma': 1, 'kernel': 'linear'},\n",
       "  {'C': 0.1, 'gamma': 1, 'kernel': 'poly'},\n",
       "  {'C': 0.1, 'gamma': 1, 'kernel': 'rbf'},\n",
       "  {'C': 0.1, 'gamma': 1, 'kernel': 'sigmoid'},\n",
       "  {'C': 0.1, 'gamma': 10, 'kernel': 'linear'},\n",
       "  {'C': 0.1, 'gamma': 10, 'kernel': 'poly'},\n",
       "  {'C': 0.1, 'gamma': 10, 'kernel': 'rbf'},\n",
       "  {'C': 0.1, 'gamma': 10, 'kernel': 'sigmoid'},\n",
       "  {'C': 0.1, 'gamma': 100, 'kernel': 'linear'},\n",
       "  {'C': 0.1, 'gamma': 100, 'kernel': 'poly'},\n",
       "  {'C': 0.1, 'gamma': 100, 'kernel': 'rbf'},\n",
       "  {'C': 0.1, 'gamma': 100, 'kernel': 'sigmoid'},\n",
       "  {'C': 1, 'gamma': 0.001, 'kernel': 'linear'},\n",
       "  {'C': 1, 'gamma': 0.001, 'kernel': 'poly'},\n",
       "  {'C': 1, 'gamma': 0.001, 'kernel': 'rbf'},\n",
       "  {'C': 1, 'gamma': 0.001, 'kernel': 'sigmoid'},\n",
       "  {'C': 1, 'gamma': 0.01, 'kernel': 'linear'},\n",
       "  {'C': 1, 'gamma': 0.01, 'kernel': 'poly'},\n",
       "  {'C': 1, 'gamma': 0.01, 'kernel': 'rbf'},\n",
       "  {'C': 1, 'gamma': 0.01, 'kernel': 'sigmoid'},\n",
       "  {'C': 1, 'gamma': 0.1, 'kernel': 'linear'},\n",
       "  {'C': 1, 'gamma': 0.1, 'kernel': 'poly'},\n",
       "  {'C': 1, 'gamma': 0.1, 'kernel': 'rbf'},\n",
       "  {'C': 1, 'gamma': 0.1, 'kernel': 'sigmoid'},\n",
       "  {'C': 1, 'gamma': 1, 'kernel': 'linear'},\n",
       "  {'C': 1, 'gamma': 1, 'kernel': 'poly'},\n",
       "  {'C': 1, 'gamma': 1, 'kernel': 'rbf'},\n",
       "  {'C': 1, 'gamma': 1, 'kernel': 'sigmoid'},\n",
       "  {'C': 1, 'gamma': 10, 'kernel': 'linear'},\n",
       "  {'C': 1, 'gamma': 10, 'kernel': 'poly'},\n",
       "  {'C': 1, 'gamma': 10, 'kernel': 'rbf'},\n",
       "  {'C': 1, 'gamma': 10, 'kernel': 'sigmoid'},\n",
       "  {'C': 1, 'gamma': 100, 'kernel': 'linear'},\n",
       "  {'C': 1, 'gamma': 100, 'kernel': 'poly'},\n",
       "  {'C': 1, 'gamma': 100, 'kernel': 'rbf'},\n",
       "  {'C': 1, 'gamma': 100, 'kernel': 'sigmoid'},\n",
       "  {'C': 10, 'gamma': 0.001, 'kernel': 'linear'},\n",
       "  {'C': 10, 'gamma': 0.001, 'kernel': 'poly'},\n",
       "  {'C': 10, 'gamma': 0.001, 'kernel': 'rbf'},\n",
       "  {'C': 10, 'gamma': 0.001, 'kernel': 'sigmoid'},\n",
       "  {'C': 10, 'gamma': 0.01, 'kernel': 'linear'},\n",
       "  {'C': 10, 'gamma': 0.01, 'kernel': 'poly'},\n",
       "  {'C': 10, 'gamma': 0.01, 'kernel': 'rbf'},\n",
       "  {'C': 10, 'gamma': 0.01, 'kernel': 'sigmoid'},\n",
       "  {'C': 10, 'gamma': 0.1, 'kernel': 'linear'},\n",
       "  {'C': 10, 'gamma': 0.1, 'kernel': 'poly'},\n",
       "  {'C': 10, 'gamma': 0.1, 'kernel': 'rbf'},\n",
       "  {'C': 10, 'gamma': 0.1, 'kernel': 'sigmoid'},\n",
       "  {'C': 10, 'gamma': 1, 'kernel': 'linear'},\n",
       "  {'C': 10, 'gamma': 1, 'kernel': 'poly'},\n",
       "  {'C': 10, 'gamma': 1, 'kernel': 'rbf'},\n",
       "  {'C': 10, 'gamma': 1, 'kernel': 'sigmoid'},\n",
       "  {'C': 10, 'gamma': 10, 'kernel': 'linear'},\n",
       "  {'C': 10, 'gamma': 10, 'kernel': 'poly'},\n",
       "  {'C': 10, 'gamma': 10, 'kernel': 'rbf'},\n",
       "  {'C': 10, 'gamma': 10, 'kernel': 'sigmoid'},\n",
       "  {'C': 10, 'gamma': 100, 'kernel': 'linear'},\n",
       "  {'C': 10, 'gamma': 100, 'kernel': 'poly'},\n",
       "  {'C': 10, 'gamma': 100, 'kernel': 'rbf'},\n",
       "  {'C': 10, 'gamma': 100, 'kernel': 'sigmoid'},\n",
       "  {'C': 100, 'gamma': 0.001, 'kernel': 'linear'},\n",
       "  {'C': 100, 'gamma': 0.001, 'kernel': 'poly'},\n",
       "  {'C': 100, 'gamma': 0.001, 'kernel': 'rbf'},\n",
       "  {'C': 100, 'gamma': 0.001, 'kernel': 'sigmoid'},\n",
       "  {'C': 100, 'gamma': 0.01, 'kernel': 'linear'},\n",
       "  {'C': 100, 'gamma': 0.01, 'kernel': 'poly'},\n",
       "  {'C': 100, 'gamma': 0.01, 'kernel': 'rbf'},\n",
       "  {'C': 100, 'gamma': 0.01, 'kernel': 'sigmoid'},\n",
       "  {'C': 100, 'gamma': 0.1, 'kernel': 'linear'},\n",
       "  {'C': 100, 'gamma': 0.1, 'kernel': 'poly'},\n",
       "  {'C': 100, 'gamma': 0.1, 'kernel': 'rbf'},\n",
       "  {'C': 100, 'gamma': 0.1, 'kernel': 'sigmoid'},\n",
       "  {'C': 100, 'gamma': 1, 'kernel': 'linear'},\n",
       "  {'C': 100, 'gamma': 1, 'kernel': 'poly'},\n",
       "  {'C': 100, 'gamma': 1, 'kernel': 'rbf'},\n",
       "  {'C': 100, 'gamma': 1, 'kernel': 'sigmoid'},\n",
       "  {'C': 100, 'gamma': 10, 'kernel': 'linear'},\n",
       "  {'C': 100, 'gamma': 10, 'kernel': 'poly'},\n",
       "  {'C': 100, 'gamma': 10, 'kernel': 'rbf'},\n",
       "  {'C': 100, 'gamma': 10, 'kernel': 'sigmoid'},\n",
       "  {'C': 100, 'gamma': 100, 'kernel': 'linear'},\n",
       "  {'C': 100, 'gamma': 100, 'kernel': 'poly'},\n",
       "  {'C': 100, 'gamma': 100, 'kernel': 'rbf'},\n",
       "  {'C': 100, 'gamma': 100, 'kernel': 'sigmoid'}],\n",
       " 'split0_test_score': array([0.71428571, 0.71428571, 0.71428571, 0.71428571, 0.71428571,\n",
       "        0.71428571, 0.71428571, 0.71428571, 0.71428571, 0.71428571,\n",
       "        0.71428571, 0.71428571, 0.71428571, 0.71428571, 0.71428571,\n",
       "        0.71428571, 0.71428571, 0.69047619, 0.71428571, 0.71428571,\n",
       "        0.71428571, 0.61904762, 0.71428571, 0.71428571, 0.71428571,\n",
       "        0.71428571, 0.71428571, 0.71428571, 0.71428571, 0.71428571,\n",
       "        0.71428571, 0.71428571, 0.71428571, 0.71428571, 0.71428571,\n",
       "        0.71428571, 0.71428571, 0.71428571, 0.71428571, 0.71428571,\n",
       "        0.71428571, 0.61904762, 0.71428571, 0.71428571, 0.71428571,\n",
       "        0.61904762, 0.71428571, 0.71428571, 0.71428571, 0.71428571,\n",
       "        0.71428571, 0.71428571, 0.71428571, 0.71428571, 0.71428571,\n",
       "        0.71428571, 0.71428571, 0.71428571, 0.71428571, 0.71428571,\n",
       "        0.71428571, 0.78571429, 0.71428571, 0.71428571, 0.71428571,\n",
       "        0.61904762, 0.71428571, 0.71428571, 0.71428571, 0.61904762,\n",
       "        0.71428571, 0.71428571, 0.83333333, 0.71428571, 0.71428571,\n",
       "        0.71428571, 0.83333333, 0.71428571, 0.71428571, 0.71428571,\n",
       "        0.83333333, 0.71428571, 0.71428571, 0.71428571, 0.83333333,\n",
       "        0.69047619, 0.76190476, 0.5952381 , 0.83333333, 0.61904762,\n",
       "        0.71428571, 0.71428571, 0.83333333, 0.61904762, 0.71428571,\n",
       "        0.71428571, 0.78571429, 0.71428571, 0.71428571, 0.71428571,\n",
       "        0.78571429, 0.71428571, 0.71428571, 0.71428571, 0.78571429,\n",
       "        0.71428571, 0.80952381, 0.88095238, 0.78571429, 0.61904762,\n",
       "        0.71428571, 0.57142857, 0.78571429, 0.61904762, 0.71428571,\n",
       "        0.71428571, 0.78571429, 0.61904762, 0.71428571, 0.71428571,\n",
       "        0.78571429, 0.71428571, 0.71428571, 0.71428571, 0.78571429,\n",
       "        0.71428571, 0.83333333, 0.83333333, 0.78571429, 0.78571429,\n",
       "        0.76190476, 0.83333333, 0.78571429, 0.61904762, 0.71428571,\n",
       "        0.57142857, 0.78571429, 0.61904762, 0.71428571, 0.71428571,\n",
       "        0.78571429, 0.61904762, 0.71428571, 0.71428571]),\n",
       " 'split1_test_score': array([0.71428571, 0.71428571, 0.71428571, 0.71428571, 0.71428571,\n",
       "        0.71428571, 0.71428571, 0.71428571, 0.71428571, 0.71428571,\n",
       "        0.71428571, 0.71428571, 0.71428571, 0.71428571, 0.71428571,\n",
       "        0.71428571, 0.71428571, 0.80952381, 0.71428571, 0.71428571,\n",
       "        0.71428571, 0.73809524, 0.71428571, 0.71428571, 0.71428571,\n",
       "        0.71428571, 0.71428571, 0.71428571, 0.71428571, 0.71428571,\n",
       "        0.71428571, 0.71428571, 0.71428571, 0.71428571, 0.71428571,\n",
       "        0.71428571, 0.71428571, 0.71428571, 0.71428571, 0.71428571,\n",
       "        0.71428571, 0.76190476, 0.71428571, 0.71428571, 0.71428571,\n",
       "        0.73809524, 0.71428571, 0.71428571, 0.71428571, 0.71428571,\n",
       "        0.71428571, 0.71428571, 0.71428571, 0.71428571, 0.71428571,\n",
       "        0.71428571, 0.71428571, 0.71428571, 0.71428571, 0.71428571,\n",
       "        0.71428571, 0.76190476, 0.71428571, 0.71428571, 0.71428571,\n",
       "        0.73809524, 0.71428571, 0.71428571, 0.71428571, 0.73809524,\n",
       "        0.71428571, 0.71428571, 0.9047619 , 0.71428571, 0.71428571,\n",
       "        0.71428571, 0.9047619 , 0.71428571, 0.71428571, 0.71428571,\n",
       "        0.9047619 , 0.71428571, 0.71428571, 0.71428571, 0.9047619 ,\n",
       "        0.80952381, 0.76190476, 0.73809524, 0.9047619 , 0.73809524,\n",
       "        0.71428571, 0.71428571, 0.9047619 , 0.73809524, 0.71428571,\n",
       "        0.71428571, 0.88095238, 0.71428571, 0.71428571, 0.71428571,\n",
       "        0.88095238, 0.71428571, 0.71428571, 0.71428571, 0.88095238,\n",
       "        0.71428571, 0.9047619 , 0.9047619 , 0.88095238, 0.76190476,\n",
       "        0.80952381, 0.76190476, 0.88095238, 0.73809524, 0.69047619,\n",
       "        0.71428571, 0.88095238, 0.73809524, 0.71428571, 0.71428571,\n",
       "        0.9047619 , 0.71428571, 0.71428571, 0.71428571, 0.9047619 ,\n",
       "        0.71428571, 0.9047619 , 0.9047619 , 0.9047619 , 0.76190476,\n",
       "        0.85714286, 0.88095238, 0.9047619 , 0.73809524, 0.78571429,\n",
       "        0.71428571, 0.9047619 , 0.73809524, 0.69047619, 0.71428571,\n",
       "        0.9047619 , 0.73809524, 0.71428571, 0.71428571]),\n",
       " 'split2_test_score': array([0.71428571, 0.71428571, 0.71428571, 0.71428571, 0.71428571,\n",
       "        0.71428571, 0.71428571, 0.71428571, 0.71428571, 0.71428571,\n",
       "        0.71428571, 0.71428571, 0.71428571, 0.71428571, 0.71428571,\n",
       "        0.71428571, 0.71428571, 0.9047619 , 0.71428571, 0.71428571,\n",
       "        0.71428571, 0.78571429, 0.71428571, 0.71428571, 0.71428571,\n",
       "        0.71428571, 0.71428571, 0.71428571, 0.71428571, 0.71428571,\n",
       "        0.71428571, 0.71428571, 0.71428571, 0.71428571, 0.71428571,\n",
       "        0.71428571, 0.71428571, 0.71428571, 0.71428571, 0.71428571,\n",
       "        0.71428571, 0.80952381, 0.71428571, 0.71428571, 0.71428571,\n",
       "        0.78571429, 0.71428571, 0.71428571, 0.71428571, 0.71428571,\n",
       "        0.71428571, 0.71428571, 0.71428571, 0.71428571, 0.71428571,\n",
       "        0.71428571, 0.71428571, 0.71428571, 0.71428571, 0.71428571,\n",
       "        0.71428571, 0.80952381, 0.71428571, 0.71428571, 0.71428571,\n",
       "        0.78571429, 0.71428571, 0.71428571, 0.71428571, 0.78571429,\n",
       "        0.71428571, 0.71428571, 0.85714286, 0.71428571, 0.71428571,\n",
       "        0.71428571, 0.85714286, 0.71428571, 0.71428571, 0.71428571,\n",
       "        0.85714286, 0.71428571, 0.71428571, 0.71428571, 0.85714286,\n",
       "        0.9047619 , 0.73809524, 0.71428571, 0.85714286, 0.78571429,\n",
       "        0.73809524, 0.71428571, 0.85714286, 0.78571429, 0.71428571,\n",
       "        0.71428571, 0.80952381, 0.71428571, 0.71428571, 0.71428571,\n",
       "        0.80952381, 0.71428571, 0.73809524, 0.71428571, 0.80952381,\n",
       "        0.71428571, 0.85714286, 0.85714286, 0.80952381, 0.80952381,\n",
       "        0.80952381, 0.69047619, 0.80952381, 0.78571429, 0.66666667,\n",
       "        0.73809524, 0.80952381, 0.78571429, 0.71428571, 0.71428571,\n",
       "        0.78571429, 0.71428571, 0.73809524, 0.71428571, 0.78571429,\n",
       "        0.71428571, 0.83333333, 0.85714286, 0.78571429, 0.80952381,\n",
       "        0.83333333, 0.9047619 , 0.78571429, 0.78571429, 0.73809524,\n",
       "        0.54761905, 0.78571429, 0.78571429, 0.66666667, 0.73809524,\n",
       "        0.78571429, 0.78571429, 0.71428571, 0.71428571]),\n",
       " 'split3_test_score': array([0.71428571, 0.71428571, 0.71428571, 0.71428571, 0.71428571,\n",
       "        0.71428571, 0.71428571, 0.71428571, 0.71428571, 0.71428571,\n",
       "        0.71428571, 0.71428571, 0.71428571, 0.71428571, 0.71428571,\n",
       "        0.71428571, 0.71428571, 0.71428571, 0.71428571, 0.71428571,\n",
       "        0.71428571, 0.71428571, 0.71428571, 0.71428571, 0.71428571,\n",
       "        0.71428571, 0.71428571, 0.71428571, 0.71428571, 0.71428571,\n",
       "        0.71428571, 0.71428571, 0.71428571, 0.71428571, 0.71428571,\n",
       "        0.71428571, 0.71428571, 0.71428571, 0.71428571, 0.71428571,\n",
       "        0.71428571, 0.69047619, 0.71428571, 0.71428571, 0.71428571,\n",
       "        0.71428571, 0.71428571, 0.71428571, 0.71428571, 0.71428571,\n",
       "        0.71428571, 0.71428571, 0.71428571, 0.71428571, 0.71428571,\n",
       "        0.71428571, 0.71428571, 0.71428571, 0.71428571, 0.71428571,\n",
       "        0.71428571, 0.71428571, 0.71428571, 0.71428571, 0.71428571,\n",
       "        0.71428571, 0.71428571, 0.71428571, 0.71428571, 0.71428571,\n",
       "        0.71428571, 0.71428571, 0.78571429, 0.71428571, 0.71428571,\n",
       "        0.71428571, 0.78571429, 0.71428571, 0.71428571, 0.71428571,\n",
       "        0.78571429, 0.71428571, 0.71428571, 0.71428571, 0.78571429,\n",
       "        0.71428571, 0.76190476, 0.66666667, 0.78571429, 0.71428571,\n",
       "        0.69047619, 0.71428571, 0.78571429, 0.71428571, 0.71428571,\n",
       "        0.71428571, 0.76190476, 0.71428571, 0.71428571, 0.71428571,\n",
       "        0.76190476, 0.71428571, 0.71428571, 0.71428571, 0.76190476,\n",
       "        0.71428571, 0.76190476, 0.80952381, 0.76190476, 0.69047619,\n",
       "        0.71428571, 0.57142857, 0.76190476, 0.71428571, 0.69047619,\n",
       "        0.71428571, 0.76190476, 0.71428571, 0.71428571, 0.71428571,\n",
       "        0.71428571, 0.71428571, 0.71428571, 0.71428571, 0.71428571,\n",
       "        0.71428571, 0.80952381, 0.78571429, 0.71428571, 0.71428571,\n",
       "        0.76190476, 0.73809524, 0.71428571, 0.71428571, 0.71428571,\n",
       "        0.54761905, 0.71428571, 0.71428571, 0.69047619, 0.71428571,\n",
       "        0.71428571, 0.71428571, 0.71428571, 0.71428571]),\n",
       " 'split4_test_score': array([0.73170732, 0.73170732, 0.73170732, 0.73170732, 0.73170732,\n",
       "        0.73170732, 0.73170732, 0.73170732, 0.73170732, 0.73170732,\n",
       "        0.73170732, 0.73170732, 0.73170732, 0.73170732, 0.73170732,\n",
       "        0.73170732, 0.73170732, 0.73170732, 0.73170732, 0.73170732,\n",
       "        0.73170732, 0.75609756, 0.73170732, 0.73170732, 0.73170732,\n",
       "        0.73170732, 0.73170732, 0.73170732, 0.73170732, 0.73170732,\n",
       "        0.73170732, 0.73170732, 0.73170732, 0.73170732, 0.73170732,\n",
       "        0.73170732, 0.73170732, 0.73170732, 0.73170732, 0.73170732,\n",
       "        0.73170732, 0.73170732, 0.73170732, 0.73170732, 0.73170732,\n",
       "        0.75609756, 0.73170732, 0.73170732, 0.73170732, 0.73170732,\n",
       "        0.73170732, 0.73170732, 0.73170732, 0.73170732, 0.73170732,\n",
       "        0.73170732, 0.73170732, 0.73170732, 0.73170732, 0.73170732,\n",
       "        0.73170732, 0.73170732, 0.73170732, 0.73170732, 0.73170732,\n",
       "        0.75609756, 0.73170732, 0.73170732, 0.73170732, 0.75609756,\n",
       "        0.73170732, 0.73170732, 0.7804878 , 0.73170732, 0.73170732,\n",
       "        0.73170732, 0.7804878 , 0.73170732, 0.73170732, 0.73170732,\n",
       "        0.7804878 , 0.73170732, 0.73170732, 0.73170732, 0.7804878 ,\n",
       "        0.73170732, 0.68292683, 0.56097561, 0.7804878 , 0.75609756,\n",
       "        0.70731707, 0.73170732, 0.7804878 , 0.75609756, 0.73170732,\n",
       "        0.73170732, 0.7804878 , 0.73170732, 0.73170732, 0.73170732,\n",
       "        0.7804878 , 0.73170732, 0.75609756, 0.73170732, 0.7804878 ,\n",
       "        0.73170732, 0.73170732, 0.80487805, 0.7804878 , 0.73170732,\n",
       "        0.73170732, 0.56097561, 0.7804878 , 0.75609756, 0.70731707,\n",
       "        0.73170732, 0.7804878 , 0.75609756, 0.73170732, 0.73170732,\n",
       "        0.80487805, 0.73170732, 0.75609756, 0.73170732, 0.80487805,\n",
       "        0.73170732, 0.82926829, 0.7804878 , 0.80487805, 0.73170732,\n",
       "        0.73170732, 0.80487805, 0.80487805, 0.75609756, 0.73170732,\n",
       "        0.56097561, 0.80487805, 0.75609756, 0.70731707, 0.73170732,\n",
       "        0.80487805, 0.75609756, 0.73170732, 0.73170732]),\n",
       " 'mean_test_score': array([0.71777003, 0.71777003, 0.71777003, 0.71777003, 0.71777003,\n",
       "        0.71777003, 0.71777003, 0.71777003, 0.71777003, 0.71777003,\n",
       "        0.71777003, 0.71777003, 0.71777003, 0.71777003, 0.71777003,\n",
       "        0.71777003, 0.71777003, 0.77015099, 0.71777003, 0.71777003,\n",
       "        0.71777003, 0.72264808, 0.71777003, 0.71777003, 0.71777003,\n",
       "        0.71777003, 0.71777003, 0.71777003, 0.71777003, 0.71777003,\n",
       "        0.71777003, 0.71777003, 0.71777003, 0.71777003, 0.71777003,\n",
       "        0.71777003, 0.71777003, 0.71777003, 0.71777003, 0.71777003,\n",
       "        0.71777003, 0.72253194, 0.71777003, 0.71777003, 0.71777003,\n",
       "        0.72264808, 0.71777003, 0.71777003, 0.71777003, 0.71777003,\n",
       "        0.71777003, 0.71777003, 0.71777003, 0.71777003, 0.71777003,\n",
       "        0.71777003, 0.71777003, 0.71777003, 0.71777003, 0.71777003,\n",
       "        0.71777003, 0.76062718, 0.71777003, 0.71777003, 0.71777003,\n",
       "        0.72264808, 0.71777003, 0.71777003, 0.71777003, 0.72264808,\n",
       "        0.71777003, 0.71777003, 0.83228804, 0.71777003, 0.71777003,\n",
       "        0.71777003, 0.83228804, 0.71777003, 0.71777003, 0.71777003,\n",
       "        0.83228804, 0.71777003, 0.71777003, 0.71777003, 0.83228804,\n",
       "        0.77015099, 0.74134727, 0.65505226, 0.83228804, 0.72264808,\n",
       "        0.71289199, 0.71777003, 0.83228804, 0.72264808, 0.71777003,\n",
       "        0.71777003, 0.80371661, 0.71777003, 0.71777003, 0.71777003,\n",
       "        0.80371661, 0.71777003, 0.72740999, 0.71777003, 0.80371661,\n",
       "        0.71777003, 0.81300813, 0.8514518 , 0.80371661, 0.72253194,\n",
       "        0.75586527, 0.63124274, 0.80371661, 0.72264808, 0.69384437,\n",
       "        0.72253194, 0.80371661, 0.72264808, 0.71777003, 0.71777003,\n",
       "        0.79907085, 0.71777003, 0.72740999, 0.71777003, 0.79907085,\n",
       "        0.71777003, 0.84204413, 0.83228804, 0.79907085, 0.76062718,\n",
       "        0.78919861, 0.83240418, 0.79907085, 0.72264808, 0.73681765,\n",
       "        0.5883856 , 0.79907085, 0.72264808, 0.69384437, 0.72253194,\n",
       "        0.79907085, 0.72264808, 0.71777003, 0.71777003]),\n",
       " 'std_test_score': array([0.00696864, 0.00696864, 0.00696864, 0.00696864, 0.00696864,\n",
       "        0.00696864, 0.00696864, 0.00696864, 0.00696864, 0.00696864,\n",
       "        0.00696864, 0.00696864, 0.00696864, 0.00696864, 0.00696864,\n",
       "        0.00696864, 0.00696864, 0.07825246, 0.00696864, 0.00696864,\n",
       "        0.00696864, 0.05681164, 0.00696864, 0.00696864, 0.00696864,\n",
       "        0.00696864, 0.00696864, 0.00696864, 0.00696864, 0.00696864,\n",
       "        0.00696864, 0.00696864, 0.00696864, 0.00696864, 0.00696864,\n",
       "        0.00696864, 0.00696864, 0.00696864, 0.00696864, 0.00696864,\n",
       "        0.00696864, 0.06471255, 0.00696864, 0.00696864, 0.00696864,\n",
       "        0.05681164, 0.00696864, 0.00696864, 0.00696864, 0.00696864,\n",
       "        0.00696864, 0.00696864, 0.00696864, 0.00696864, 0.00696864,\n",
       "        0.00696864, 0.00696864, 0.00696864, 0.00696864, 0.00696864,\n",
       "        0.00696864, 0.03465766, 0.00696864, 0.00696864, 0.00696864,\n",
       "        0.05681164, 0.00696864, 0.00696864, 0.00696864, 0.05681164,\n",
       "        0.00696864, 0.00696864, 0.04631133, 0.00696864, 0.00696864,\n",
       "        0.00696864, 0.04631133, 0.00696864, 0.00696864, 0.00696864,\n",
       "        0.04631133, 0.00696864, 0.00696864, 0.00696864, 0.04631133,\n",
       "        0.07825246, 0.03063121, 0.06777578, 0.04631133, 0.05681164,\n",
       "        0.01531428, 0.00696864, 0.04631133, 0.05681164, 0.00696864,\n",
       "        0.00696864, 0.04149935, 0.00696864, 0.00696864, 0.00696864,\n",
       "        0.04149935, 0.00696864, 0.01705222, 0.00696864, 0.04149935,\n",
       "        0.00696864, 0.06261014, 0.03917068, 0.04149935, 0.06471255,\n",
       "        0.04427144, 0.08083824, 0.04149935, 0.05681164, 0.01649654,\n",
       "        0.01029956, 0.04149935, 0.05681164, 0.00696864, 0.00696864,\n",
       "        0.06123665, 0.00696864, 0.01705222, 0.00696864, 0.06123665,\n",
       "        0.00696864, 0.03257628, 0.04631133, 0.06123665, 0.03465766,\n",
       "        0.04766435, 0.05872869, 0.06123665, 0.05681164, 0.02620689,\n",
       "        0.06358225, 0.06123665, 0.05681164, 0.01649654, 0.01029956,\n",
       "        0.06123665, 0.05681164, 0.00696864, 0.00696864]),\n",
       " 'rank_test_score': array([ 49,  49,  49,  49,  49,  49,  49,  49,  49,  49,  49,  49,  49,\n",
       "         49,  49,  49,  49,  25,  49,  49,  49,  34,  49,  49,  49,  49,\n",
       "         49,  49,  49,  49,  49,  49,  49,  49,  49,  49,  49,  49,  49,\n",
       "         49,  49,  45,  49,  49,  49,  34,  49,  49,  49,  49,  49,  49,\n",
       "         49,  49,  49,  49,  49,  49,  49,  49,  49,  27,  49,  49,  49,\n",
       "         34,  49,  49,  49,  34,  49,  49,   4,  49,  49,  49,   4,  49,\n",
       "         49,  49,   4,  49,  49,  49,   4,  25,  30, 142,   4,  34, 139,\n",
       "         49,   4,  34,  49,  49,  12,  49,  49,  49,  12,  49,  32,  49,\n",
       "         12,  49,  11,   1,  12,  45,  29, 143,  12,  34, 140,  45,  12,\n",
       "         34,  49,  49,  18,  49,  32,  49,  18,  49,   2,   4,  18,  27,\n",
       "         24,   3,  18,  34,  31, 144,  18,  34, 140,  45,  18,  34,  49,\n",
       "         49], dtype=int32)}"
      ]
     },
     "execution_count": 74,
     "metadata": {},
     "output_type": "execute_result"
    }
   ],
   "source": [
    "grid_search.cv_results_"
   ]
  },
  {
   "cell_type": "code",
   "execution_count": null,
   "id": "d9359011",
   "metadata": {},
   "outputs": [],
   "source": []
  },
  {
   "cell_type": "code",
   "execution_count": null,
   "id": "0f0b71ec",
   "metadata": {},
   "outputs": [],
   "source": []
  },
  {
   "cell_type": "code",
   "execution_count": null,
   "id": "eca60fed",
   "metadata": {},
   "outputs": [],
   "source": [
    "# previous class work; Please skip the following the codes!"
   ]
  },
  {
   "cell_type": "raw",
   "id": "bd1b1750",
   "metadata": {},
   "source": [
    "df = df.rename({'DEATH_EVENT': 'death'}, axis=1) # rename the column name \n",
    "df"
   ]
  },
  {
   "cell_type": "code",
   "execution_count": 6,
   "id": "3c1cfde1",
   "metadata": {},
   "outputs": [],
   "source": [
    "# to save or download the current csv file"
   ]
  },
  {
   "cell_type": "code",
   "execution_count": 7,
   "id": "68d2db11",
   "metadata": {},
   "outputs": [],
   "source": [
    "df.to_csv('new.csv')"
   ]
  },
  {
   "cell_type": "code",
   "execution_count": 8,
   "id": "6c8b2d88",
   "metadata": {},
   "outputs": [
    {
     "data": {
      "text/plain": [
       "0    203\n",
       "1     96\n",
       "Name: death, dtype: int64"
      ]
     },
     "execution_count": 8,
     "metadata": {},
     "output_type": "execute_result"
    }
   ],
   "source": [
    "df.death.value_counts()"
   ]
  },
  {
   "cell_type": "code",
   "execution_count": 9,
   "id": "fe98ad0c",
   "metadata": {},
   "outputs": [],
   "source": [
    "x = df.drop('death', axis=1)\n",
    "y = df['death']"
   ]
  },
  {
   "cell_type": "code",
   "execution_count": 10,
   "id": "0d5868f0",
   "metadata": {},
   "outputs": [],
   "source": [
    "from sklearn.model_selection import train_test_split as tts\n",
    "xtrain, xtest, ytrain, ytest = tts(x, y, train_size=0.70, random_state=42)"
   ]
  },
  {
   "cell_type": "code",
   "execution_count": 11,
   "id": "f1582bda",
   "metadata": {},
   "outputs": [
    {
     "data": {
      "text/plain": [
       "281    0\n",
       "265    0\n",
       "164    1\n",
       "9      1\n",
       "77     0\n",
       "      ..\n",
       "132    0\n",
       "72     1\n",
       "15     1\n",
       "10     1\n",
       "157    0\n",
       "Name: death, Length: 90, dtype: int64"
      ]
     },
     "execution_count": 11,
     "metadata": {},
     "output_type": "execute_result"
    }
   ],
   "source": [
    "ytest"
   ]
  },
  {
   "cell_type": "code",
   "execution_count": 12,
   "id": "1e9e1a29",
   "metadata": {},
   "outputs": [
    {
     "data": {
      "text/plain": [
       "(90,)"
      ]
     },
     "execution_count": 12,
     "metadata": {},
     "output_type": "execute_result"
    }
   ],
   "source": [
    "ytest.shape"
   ]
  },
  {
   "cell_type": "code",
   "execution_count": 13,
   "id": "c895595b",
   "metadata": {},
   "outputs": [
    {
     "data": {
      "text/plain": [
       "(90, 12)"
      ]
     },
     "execution_count": 13,
     "metadata": {},
     "output_type": "execute_result"
    }
   ],
   "source": [
    "xtest.shape"
   ]
  },
  {
   "cell_type": "code",
   "execution_count": 14,
   "id": "73215beb",
   "metadata": {},
   "outputs": [
    {
     "data": {
      "text/plain": [
       "<AxesSubplot:xlabel='death', ylabel='count'>"
      ]
     },
     "execution_count": 14,
     "metadata": {},
     "output_type": "execute_result"
    },
    {
     "data": {
      "image/png": "[encoded data removed]",
      "text/plain": [
       "<Figure size 432x288 with 1 Axes>"
      ]
     },
     "metadata": {
      "needs_background": "light"
     },
     "output_type": "display_data"
    }
   ],
   "source": [
    "sns.countplot(x='death', data=df)"
   ]
  },
  {
   "cell_type": "code",
   "execution_count": 15,
   "id": "3c9d5d60",
   "metadata": {},
   "outputs": [],
   "source": [
    "# Decison Tree Classifier\n",
    "\n",
    "from sklearn.tree import DecisionTreeClassifier\n",
    "dt = DecisionTreeClassifier()"
   ]
  },
  {
   "cell_type": "code",
   "execution_count": 16,
   "id": "0738b128",
   "metadata": {},
   "outputs": [
    {
     "data": {
      "text/plain": [
       "DecisionTreeClassifier()"
      ]
     },
     "execution_count": 16,
     "metadata": {},
     "output_type": "execute_result"
    }
   ],
   "source": [
    "dt.fit(xtrain, ytrain) # train the model with 70% dataset"
   ]
  },
  {
   "cell_type": "code",
   "execution_count": 17,
   "id": "82b7284d",
   "metadata": {},
   "outputs": [
    {
     "data": {
      "text/plain": [
       "281    0\n",
       "265    0\n",
       "164    1\n",
       "9      1\n",
       "77     0\n",
       "      ..\n",
       "132    0\n",
       "72     1\n",
       "15     1\n",
       "10     1\n",
       "157    0\n",
       "Name: death, Length: 90, dtype: int64"
      ]
     },
     "execution_count": 17,
     "metadata": {},
     "output_type": "execute_result"
    }
   ],
   "source": [
    "pred = dt.predict(xtest) # predict in corresponding to ytest\n",
    "ytest"
   ]
  },
  {
   "cell_type": "code",
   "execution_count": 18,
   "id": "0d7a078b",
   "metadata": {},
   "outputs": [
    {
     "data": {
      "text/plain": [
       "array([1, 0, 0, 1, 0, 0, 0, 1, 0, 0, 0, 0, 0, 0, 1, 0, 0, 0, 1, 1, 0, 0,\n",
       "       1, 1, 1, 0, 0, 0, 0, 0, 1, 0, 1, 1, 1, 0, 0, 0, 0, 0, 1, 0, 0, 0,\n",
       "       1, 0, 1, 0, 0, 0, 0, 0, 0, 0, 0, 0, 0, 1, 0, 1, 1, 1, 0, 0, 1, 1,\n",
       "       0, 1, 0, 0, 0, 0, 0, 0, 1, 0, 0, 1, 1, 0, 1, 0, 0, 0, 0, 0, 1, 0,\n",
       "       0, 0])"
      ]
     },
     "execution_count": 18,
     "metadata": {},
     "output_type": "execute_result"
    }
   ],
   "source": [
    "pred"
   ]
  },
  {
   "cell_type": "code",
   "execution_count": 19,
   "id": "28428fcd",
   "metadata": {},
   "outputs": [
    {
     "data": {
      "text/plain": [
       "array([0, 0, 1, 1, 0, 0, 1, 0, 1, 0, 0, 1, 1, 0, 0, 1, 0, 0, 1, 1, 0, 0,\n",
       "       0, 1, 1, 0, 0, 0, 1, 0, 1, 0, 0, 1, 1, 1, 1, 1, 0, 0, 1, 1, 0, 0,\n",
       "       0, 0, 0, 0, 0, 0, 1, 1, 1, 0, 0, 0, 0, 1, 0, 1, 1, 1, 1, 0, 1, 1,\n",
       "       0, 0, 0, 0, 1, 0, 0, 0, 0, 0, 0, 1, 0, 0, 1, 1, 0, 0, 0, 0, 1, 1,\n",
       "       1, 0])"
      ]
     },
     "execution_count": 19,
     "metadata": {},
     "output_type": "execute_result"
    }
   ],
   "source": [
    "np.array(ytest)"
   ]
  },
  {
   "cell_type": "code",
   "execution_count": 20,
   "id": "f9606547",
   "metadata": {},
   "outputs": [
    {
     "data": {
      "text/plain": [
       "0.6777777777777778"
      ]
     },
     "execution_count": 20,
     "metadata": {},
     "output_type": "execute_result"
    }
   ],
   "source": [
    "dt.score(xtest, ytest)"
   ]
  },
  {
   "cell_type": "code",
   "execution_count": 21,
   "id": "da502fa5",
   "metadata": {},
   "outputs": [],
   "source": [
    "# Evalaute ML Model"
   ]
  },
  {
   "cell_type": "code",
   "execution_count": 22,
   "id": "b4bf44f6",
   "metadata": {},
   "outputs": [],
   "source": [
    "from sklearn.metrics import classification_report , accuracy_score, confusion_matrix, plot_roc_curve"
   ]
  },
  {
   "cell_type": "code",
   "execution_count": 23,
   "id": "edcfae27",
   "metadata": {},
   "outputs": [
    {
     "name": "stdout",
     "output_type": "stream",
     "text": [
      "              precision    recall  f1-score   support\n",
      "\n",
      "           0       0.69      0.81      0.75        53\n",
      "           1       0.64      0.49      0.55        37\n",
      "\n",
      "    accuracy                           0.68        90\n",
      "   macro avg       0.67      0.65      0.65        90\n",
      "weighted avg       0.67      0.68      0.67        90\n",
      "\n"
     ]
    }
   ],
   "source": [
    "print(classification_report(ytest, pred))"
   ]
  },
  {
   "cell_type": "code",
   "execution_count": 24,
   "id": "a2f933d7",
   "metadata": {},
   "outputs": [
    {
     "data": {
      "text/plain": [
       "array([[43, 10],\n",
       "       [19, 18]])"
      ]
     },
     "execution_count": 24,
     "metadata": {},
     "output_type": "execute_result"
    }
   ],
   "source": [
    "test_confusion_matrix = confusion_matrix(ytest, pred)\n",
    "test_confusion_matrix"
   ]
  },
  {
   "cell_type": "code",
   "execution_count": 25,
   "id": "64108fb9",
   "metadata": {},
   "outputs": [
    {
     "data": {
      "text/plain": [
       "<AxesSubplot:>"
      ]
     },
     "execution_count": 25,
     "metadata": {},
     "output_type": "execute_result"
    },
    {
     "data": {
      "image/png": "[encoded data removed]",
      "text/plain": [
       "<Figure size 432x288 with 2 Axes>"
      ]
     },
     "metadata": {
      "needs_background": "light"
     },
     "output_type": "display_data"
    }
   ],
   "source": [
    "sns.heatmap(test_confusion_matrix, annot=True)"
   ]
  },
  {
   "cell_type": "code",
   "execution_count": 26,
   "id": "86d62c15",
   "metadata": {},
   "outputs": [],
   "source": [
    "tp, fn, fp, tn = confusion_matrix(ytest,pred).reshape(-1)"
   ]
  },
  {
   "cell_type": "code",
   "execution_count": 27,
   "id": "dbb79d45",
   "metadata": {},
   "outputs": [
    {
     "data": {
      "text/plain": [
       "0.6777777777777778"
      ]
     },
     "execution_count": 27,
     "metadata": {},
     "output_type": "execute_result"
    }
   ],
   "source": [
    "dt.score(xtest,ytest)"
   ]
  },
  {
   "cell_type": "markdown",
   "id": "2bd366c9",
   "metadata": {},
   "source": [
    "# Random Forest Classifier"
   ]
  },
  {
   "cell_type": "code",
   "execution_count": 46,
   "id": "c15ba8a1",
   "metadata": {},
   "outputs": [],
   "source": [
    "from sklearn.ensemble import RandomForestClassifier"
   ]
  },
  {
   "cell_type": "code",
   "execution_count": 47,
   "id": "adaafbd3",
   "metadata": {},
   "outputs": [],
   "source": [
    "rfc = RandomForestClassifier() # default parameter"
   ]
  },
  {
   "cell_type": "code",
   "execution_count": 48,
   "id": "d7e12805",
   "metadata": {},
   "outputs": [
    {
     "data": {
      "text/plain": [
       "RandomForestClassifier()"
      ]
     },
     "execution_count": 48,
     "metadata": {},
     "output_type": "execute_result"
    }
   ],
   "source": [
    "rfc.fit(xtrain, ytrain)"
   ]
  },
  {
   "cell_type": "code",
   "execution_count": 49,
   "id": "0b486aba",
   "metadata": {},
   "outputs": [
    {
     "data": {
      "text/plain": [
       "0.7777777777777778"
      ]
     },
     "execution_count": 49,
     "metadata": {},
     "output_type": "execute_result"
    }
   ],
   "source": [
    "rfc.score(xtest, ytest)"
   ]
  },
  {
   "cell_type": "markdown",
   "id": "97c3b358",
   "metadata": {},
   "source": [
    "# Hyper Parameter Tuning"
   ]
  },
  {
   "cell_type": "code",
   "execution_count": 50,
   "id": "450f5992",
   "metadata": {},
   "outputs": [],
   "source": []
  },
  {
   "cell_type": "code",
   "execution_count": 51,
   "id": "74e7cd90",
   "metadata": {},
   "outputs": [
    {
     "data": {
      "text/plain": [
       "array([148, 138,  61,  87, 143,  39, 131, 115,  46, 145, 104, 127,  76,\n",
       "        87,  43, 126,  23,  44,  34,  58,  83, 118,  57,  20,  60])"
      ]
     },
     "execution_count": 51,
     "metadata": {},
     "output_type": "execute_result"
    }
   ],
   "source": [
    "trees = np.random.randint(20,150,25)\n",
    "trees"
   ]
  },
  {
   "cell_type": "code",
   "execution_count": 52,
   "id": "ee7ae1c1",
   "metadata": {},
   "outputs": [],
   "source": [
    "criterion = ['gini', 'entropy', 'log_loss']\n",
    "max_depth = np.random.randint(1, 20, 30)\n",
    "min_samples_split = [2,3,4]\n",
    "max_features = ['sqrt', 'log2']"
   ]
  },
  {
   "cell_type": "code",
   "execution_count": 53,
   "id": "81cea10b",
   "metadata": {},
   "outputs": [],
   "source": [
    "# hyperparameters\n",
    "parameter = {\n",
    "   # 'kernel': ['linear', 'poly', 'rbf', 'sigmoid'],\n",
    "      #   'C': [1, 5, 10, 20],\n",
    "   'n_estimator': trees,\n",
    "  # 'criterion': criterion,\n",
    "   'max_depth': max_depth,\n",
    "   #'max_feature': max_features\n",
    "}"
   ]
  },
  {
   "cell_type": "code",
   "execution_count": 43,
   "id": "e2d5339a",
   "metadata": {},
   "outputs": [
    {
     "name": "stdout",
     "output_type": "stream",
     "text": [
      "{'kernel': ['linear', 'poly', 'rbf', 'sigmoid'], 'C': [1, 5, 10, 20], 'n_estimator': array([ 77, 144,  58,  85,  92,  36,  30, 102, 101,  65,  87, 100,  91,\n",
      "        98,  71, 117, 119,  76, 144, 122,  97,  89,  56,  73, 100]), 'criterion': ['gini', 'entropy', 'log_loss'], 'max_depth': array([ 2,  6, 14,  5, 12, 19,  1,  8,  3,  2,  8,  2,  3,  3,  4, 19, 16,\n",
      "        6, 16,  7, 17,  6, 19,  4, 11, 10,  4,  6,  5,  7]), 'max_feature': ['sqrt', 'log2']}\n"
     ]
    }
   ],
   "source": [
    "print(parameter)"
   ]
  },
  {
   "cell_type": "code",
   "execution_count": null,
   "id": "69cd8b13",
   "metadata": {},
   "outputs": [],
   "source": []
  }
 ],
 "metadata": {
  "kernelspec": {
   "display_name": "Python 3",
   "language": "python",
   "name": "python3"
  },
  "language_info": {
   "codemirror_mode": {
    "name": "ipython",
    "version": 3
   },
   "file_extension": ".py",
   "mimetype": "text/x-python",
   "name": "python",
   "nbconvert_exporter": "python",
   "pygments_lexer": "ipython3",
   "version": "3.8.8"
  }
 },
 "nbformat": 4,
 "nbformat_minor": 5
}
